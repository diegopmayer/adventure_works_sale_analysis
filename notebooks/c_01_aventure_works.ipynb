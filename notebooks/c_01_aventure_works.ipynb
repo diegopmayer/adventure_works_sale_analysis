{
 "cells": [
  {
   "cell_type": "markdown",
   "id": "70264b5a-5771-4ebf-b37e-03cd05dbef43",
   "metadata": {},
   "source": [
    "# Adventure Works Cycles Business Analysis"
   ]
  },
  {
   "cell_type": "markdown",
   "id": "ec1e064d-d301-43df-9414-245fdfac178f",
   "metadata": {
    "execution": {
     "iopub.execute_input": "2021-09-05T13:34:02.106124Z",
     "iopub.status.busy": "2021-09-05T13:34:02.105696Z",
     "iopub.status.idle": "2021-09-05T13:34:02.119674Z",
     "shell.execute_reply": "2021-09-05T13:34:02.118527Z",
     "shell.execute_reply.started": "2021-09-05T13:34:02.106016Z"
    }
   },
   "source": [
    "> The AdventureWorks Database supports a fictitious, multinational manufacturing company called Adventure Works Cycles"
   ]
  },
  {
   "cell_type": "markdown",
   "id": "3b45869a-230c-4536-a6e2-f51f2e12e63a",
   "metadata": {
    "execution": {
     "iopub.execute_input": "2021-09-05T13:35:12.690807Z",
     "iopub.status.busy": "2021-09-05T13:35:12.690336Z",
     "iopub.status.idle": "2021-09-05T13:35:12.697006Z",
     "shell.execute_reply": "2021-09-05T13:35:12.695955Z",
     "shell.execute_reply.started": "2021-09-05T13:35:12.690752Z"
    },
    "tags": []
   },
   "source": [
    "## 1.0 - Libraries and Functions"
   ]
  },
  {
   "cell_type": "markdown",
   "id": "43666a43-2f58-429d-9ab2-3189a0540feb",
   "metadata": {
    "execution": {
     "iopub.execute_input": "2021-09-05T13:35:12.690807Z",
     "iopub.status.busy": "2021-09-05T13:35:12.690336Z",
     "iopub.status.idle": "2021-09-05T13:35:12.697006Z",
     "shell.execute_reply": "2021-09-05T13:35:12.695955Z",
     "shell.execute_reply.started": "2021-09-05T13:35:12.690752Z"
    },
    "jp-MarkdownHeadingCollapsed": true,
    "tags": []
   },
   "source": [
    "### 1.1 - Libraries"
   ]
  },
  {
   "cell_type": "code",
   "execution_count": 1,
   "id": "7746fc79-179b-465e-80c3-769d46ce88ea",
   "metadata": {
    "execution": {
     "iopub.execute_input": "2021-09-05T17:17:57.431155Z",
     "iopub.status.busy": "2021-09-05T17:17:57.430821Z",
     "iopub.status.idle": "2021-09-05T17:17:58.196026Z",
     "shell.execute_reply": "2021-09-05T17:17:58.195536Z",
     "shell.execute_reply.started": "2021-09-05T17:17:57.431072Z"
    },
    "tags": []
   },
   "outputs": [],
   "source": [
    "# data extraction and manipulation\n",
    "from zipfile import ZipFile\n",
    "import pandas as pd\n",
    "\n",
    "# data visualization\n",
    "import seaborn as sns\n",
    "import matplotlib.pyplot as plt"
   ]
  },
  {
   "cell_type": "markdown",
   "id": "d2f09766-db84-4462-8480-c368c53147c0",
   "metadata": {
    "execution": {
     "iopub.execute_input": "2021-09-05T13:35:12.690807Z",
     "iopub.status.busy": "2021-09-05T13:35:12.690336Z",
     "iopub.status.idle": "2021-09-05T13:35:12.697006Z",
     "shell.execute_reply": "2021-09-05T13:35:12.695955Z",
     "shell.execute_reply.started": "2021-09-05T13:35:12.690752Z"
    },
    "jp-MarkdownHeadingCollapsed": true,
    "tags": []
   },
   "source": [
    "### 1.2 - Helper Functions"
   ]
  },
  {
   "cell_type": "code",
   "execution_count": 161,
   "id": "3b50c2ac-2a6e-42ac-8123-d8362b226612",
   "metadata": {
    "execution": {
     "iopub.execute_input": "2021-09-05T20:51:25.514613Z",
     "iopub.status.busy": "2021-09-05T20:51:25.514189Z",
     "iopub.status.idle": "2021-09-05T20:51:25.549845Z",
     "shell.execute_reply": "2021-09-05T20:51:25.548868Z",
     "shell.execute_reply.started": "2021-09-05T20:51:25.514555Z"
    },
    "tags": []
   },
   "outputs": [
    {
     "name": "stdout",
     "output_type": "stream",
     "text": [
      "Populating the interactive namespace from numpy and matplotlib\n"
     ]
    },
    {
     "data": {
      "text/html": [
       "<style>.conteiner{width:95% !important;}</style>"
      ],
      "text/plain": [
       "<IPython.core.display.HTML object>"
      ]
     },
     "metadata": {},
     "output_type": "display_data"
    }
   ],
   "source": [
    "def jupyter_settings():\n",
    "    \n",
    "    # Only to use on jupyter notebook\n",
    "    from IPython.core.display import display, HTML\n",
    "    \n",
    "    # show the charts at jupyter cell\n",
    "    %matplotlib inline\n",
    "    %pylab inline\n",
    "    \n",
    "    # Matplotlib style and size patterns\n",
    "    plt.style.use('bmh')\n",
    "    plt.rcParams['figure.figsize'] = [25, 12]\n",
    "    plt.rcParams['font.size'] = 20\n",
    "    \n",
    "    # Dataframe control showded\n",
    "    pd.options.display.max_columns = None\n",
    "    pd.options.display.max_rows = None\n",
    "    pd.options.display.float_format = '{:20,.2f}'.format\n",
    "    pd.set_option('display.expand_frame_repr', False)\n",
    "    \n",
    "    # Vizualization expanded to 95% of screen\n",
    "    display(HTML('<style>.conteiner{width:95% !important;}</style>'))\n",
    "\n",
    "    # Apply into seaborn\n",
    "    sns.set()\n",
    "\n",
    "    \n",
    "# Function Called\n",
    "jupyter_settings()"
   ]
  },
  {
   "cell_type": "markdown",
   "id": "07ff2ab3-50c3-4e0b-b088-679df223dd4c",
   "metadata": {
    "execution": {
     "iopub.execute_input": "2021-09-05T13:35:12.690807Z",
     "iopub.status.busy": "2021-09-05T13:35:12.690336Z",
     "iopub.status.idle": "2021-09-05T13:35:12.697006Z",
     "shell.execute_reply": "2021-09-05T13:35:12.695955Z",
     "shell.execute_reply.started": "2021-09-05T13:35:12.690752Z"
    },
    "jp-MarkdownHeadingCollapsed": true,
    "tags": []
   },
   "source": [
    "## 2.0 - Data Extraction"
   ]
  },
  {
   "cell_type": "code",
   "execution_count": 4,
   "id": "a5a23fc8-7d5f-4758-b5b1-79d41aa91024",
   "metadata": {
    "execution": {
     "iopub.execute_input": "2021-09-05T17:02:41.738760Z",
     "iopub.status.busy": "2021-09-05T17:02:41.737719Z",
     "iopub.status.idle": "2021-09-05T17:02:42.285133Z",
     "shell.execute_reply": "2021-09-05T17:02:42.282774Z",
     "shell.execute_reply.started": "2021-09-05T17:02:41.738641Z"
    },
    "tags": []
   },
   "outputs": [
    {
     "name": "stdout",
     "output_type": "stream",
     "text": [
      "File ‘../datasets/2be7520c-94cd-463f-8432-d580d0810344.zip’ already there; not retrieving.\n",
      "\n"
     ]
    }
   ],
   "source": [
    "# Downloading zip code into a specific directory (if exists: no save)\n",
    "!wget -P ../datasets -nc https://hermes.digitalinnovation.one/lab_projects/files/2be7520c-94cd-463f-8432-d580d0810344.zip"
   ]
  },
  {
   "cell_type": "code",
   "execution_count": 381,
   "id": "787873be-cfd9-49b1-88eb-30f259a39655",
   "metadata": {
    "execution": {
     "iopub.execute_input": "2021-09-05T22:38:18.176542Z",
     "iopub.status.busy": "2021-09-05T22:38:18.174415Z",
     "iopub.status.idle": "2021-09-05T22:38:18.389466Z",
     "shell.execute_reply": "2021-09-05T22:38:18.388920Z",
     "shell.execute_reply.started": "2021-09-05T22:38:18.176429Z"
    },
    "tags": []
   },
   "outputs": [],
   "source": [
    "# Loading dataset inside the zip file\n",
    "zf = ZipFile('../datasets/2be7520c-94cd-463f-8432-d580d0810344.zip')\n",
    "data_raw = pd.read_excel(zf.open([ad for ad in zf.namelist() if 'Adventure' in ad ][0]))"
   ]
  },
  {
   "cell_type": "markdown",
   "id": "693ea333-58b0-49d7-ba0c-7b9dccad8c2a",
   "metadata": {
    "execution": {
     "iopub.execute_input": "2021-09-05T13:35:12.690807Z",
     "iopub.status.busy": "2021-09-05T13:35:12.690336Z",
     "iopub.status.idle": "2021-09-05T13:35:12.697006Z",
     "shell.execute_reply": "2021-09-05T13:35:12.695955Z",
     "shell.execute_reply.started": "2021-09-05T13:35:12.690752Z"
    },
    "tags": []
   },
   "source": [
    "## 3.0 - Data Cleaning"
   ]
  },
  {
   "cell_type": "markdown",
   "id": "6872e096-da53-45be-9ffb-6f0afd6ab2c7",
   "metadata": {
    "execution": {
     "iopub.execute_input": "2021-09-05T13:35:12.690807Z",
     "iopub.status.busy": "2021-09-05T13:35:12.690336Z",
     "iopub.status.idle": "2021-09-05T13:35:12.697006Z",
     "shell.execute_reply": "2021-09-05T13:35:12.695955Z",
     "shell.execute_reply.started": "2021-09-05T13:35:12.690752Z"
    },
    "jp-MarkdownHeadingCollapsed": true,
    "tags": []
   },
   "source": [
    "### 3.1 - Dimensionality"
   ]
  },
  {
   "cell_type": "code",
   "execution_count": 163,
   "id": "3534311a-88b1-45b1-8d87-f601c370dfd2",
   "metadata": {
    "execution": {
     "iopub.execute_input": "2021-09-05T20:51:35.070816Z",
     "iopub.status.busy": "2021-09-05T20:51:35.068579Z",
     "iopub.status.idle": "2021-09-05T20:51:35.085287Z",
     "shell.execute_reply": "2021-09-05T20:51:35.083346Z",
     "shell.execute_reply.started": "2021-09-05T20:51:35.070711Z"
    },
    "tags": []
   },
   "outputs": [
    {
     "name": "stdout",
     "output_type": "stream",
     "text": [
      "Numbers of Line Registers: 904\n",
      "Numbers of Columns: 16\n",
      "Dimentionality: 14464\n"
     ]
    }
   ],
   "source": [
    "# showing the numbers of columns, lines and dimensionality\n",
    "print(f'Numbers of Line Registers: {data_raw.shape[0]}\\nNumbers of Columns: {data_raw.shape[1]}')\n",
    "print(f'Dimentionality: {data_raw.shape[0] * data_raw.shape[1]}')"
   ]
  },
  {
   "cell_type": "markdown",
   "id": "b92dfee3-74f4-45d6-9e36-f195712e43f2",
   "metadata": {},
   "source": [
    "There are not problem with dimentionality, because, it's small database, only one pc run"
   ]
  },
  {
   "cell_type": "markdown",
   "id": "ec4671ba-7d96-4afe-94c5-c836a22b0c15",
   "metadata": {
    "execution": {
     "iopub.execute_input": "2021-09-05T13:35:12.690807Z",
     "iopub.status.busy": "2021-09-05T13:35:12.690336Z",
     "iopub.status.idle": "2021-09-05T13:35:12.697006Z",
     "shell.execute_reply": "2021-09-05T13:35:12.695955Z",
     "shell.execute_reply.started": "2021-09-05T13:35:12.690752Z"
    },
    "jp-MarkdownHeadingCollapsed": true,
    "tags": []
   },
   "source": [
    "### 3.2 - Rename Columns"
   ]
  },
  {
   "cell_type": "code",
   "execution_count": 382,
   "id": "5ec2a730-6c23-4b95-9d80-5a15ed63a190",
   "metadata": {
    "execution": {
     "iopub.execute_input": "2021-09-05T22:38:27.132931Z",
     "iopub.status.busy": "2021-09-05T22:38:27.132472Z",
     "iopub.status.idle": "2021-09-05T22:38:27.137665Z",
     "shell.execute_reply": "2021-09-05T22:38:27.136976Z",
     "shell.execute_reply.started": "2021-09-05T22:38:27.132901Z"
    },
    "tags": []
   },
   "outputs": [],
   "source": [
    "# convertinf all columns to lower case and snake case (_)\n",
    "data_raw.columns = data_raw.rename(str.casefold, axis='columns').columns.str.replace(' ', '_')"
   ]
  },
  {
   "cell_type": "markdown",
   "id": "4e21aebd-4369-45bc-bdf8-111083938f68",
   "metadata": {},
   "source": [
    "You can use the inflection.underscore() to convert automatically, see bellow \n",
    "<a href=\"https://pypi.org/project/inflection/\">Pypi rename columns</a>"
   ]
  },
  {
   "cell_type": "markdown",
   "id": "6a096e57-ccd3-4bd1-987e-08ee1f951c3c",
   "metadata": {
    "execution": {
     "iopub.execute_input": "2021-09-05T13:35:12.690807Z",
     "iopub.status.busy": "2021-09-05T13:35:12.690336Z",
     "iopub.status.idle": "2021-09-05T13:35:12.697006Z",
     "shell.execute_reply": "2021-09-05T13:35:12.695955Z",
     "shell.execute_reply.started": "2021-09-05T13:35:12.690752Z"
    },
    "jp-MarkdownHeadingCollapsed": true,
    "tags": []
   },
   "source": [
    "### 3.3 - Null and Data Type"
   ]
  },
  {
   "cell_type": "code",
   "execution_count": 165,
   "id": "947641bd-4aa1-4b9d-8956-7903fe756209",
   "metadata": {
    "execution": {
     "iopub.execute_input": "2021-09-05T20:51:40.637452Z",
     "iopub.status.busy": "2021-09-05T20:51:40.637093Z",
     "iopub.status.idle": "2021-09-05T20:51:40.664845Z",
     "shell.execute_reply": "2021-09-05T20:51:40.664221Z",
     "shell.execute_reply.started": "2021-09-05T20:51:40.637419Z"
    },
    "tags": []
   },
   "outputs": [
    {
     "data": {
      "text/html": [
       "<div>\n",
       "<style scoped>\n",
       "    .dataframe tbody tr th:only-of-type {\n",
       "        vertical-align: middle;\n",
       "    }\n",
       "\n",
       "    .dataframe tbody tr th {\n",
       "        vertical-align: top;\n",
       "    }\n",
       "\n",
       "    .dataframe thead th {\n",
       "        text-align: right;\n",
       "    }\n",
       "</style>\n",
       "<table border=\"1\" class=\"dataframe\">\n",
       "  <thead>\n",
       "    <tr style=\"text-align: right;\">\n",
       "      <th></th>\n",
       "      <th>columns_name</th>\n",
       "      <th>data_types</th>\n",
       "      <th>number_of_null</th>\n",
       "      <th>register_01</th>\n",
       "      <th>register_02</th>\n",
       "      <th>register_03</th>\n",
       "    </tr>\n",
       "  </thead>\n",
       "  <tbody>\n",
       "    <tr>\n",
       "      <th>0</th>\n",
       "      <td>data_venda</td>\n",
       "      <td>datetime64[ns]</td>\n",
       "      <td>0</td>\n",
       "      <td>2008-05-09 00:00:00</td>\n",
       "      <td>2008-05-12 00:00:00</td>\n",
       "      <td>2008-05-14 00:00:00</td>\n",
       "    </tr>\n",
       "    <tr>\n",
       "      <th>1</th>\n",
       "      <td>data_envio</td>\n",
       "      <td>datetime64[ns]</td>\n",
       "      <td>0</td>\n",
       "      <td>2008-05-29 00:00:00</td>\n",
       "      <td>2008-05-17 00:00:00</td>\n",
       "      <td>2008-05-20 00:00:00</td>\n",
       "    </tr>\n",
       "    <tr>\n",
       "      <th>2</th>\n",
       "      <td>id_loja</td>\n",
       "      <td>int64</td>\n",
       "      <td>0</td>\n",
       "      <td>199</td>\n",
       "      <td>306</td>\n",
       "      <td>306</td>\n",
       "    </tr>\n",
       "    <tr>\n",
       "      <th>3</th>\n",
       "      <td>id_produto</td>\n",
       "      <td>int64</td>\n",
       "      <td>0</td>\n",
       "      <td>384</td>\n",
       "      <td>384</td>\n",
       "      <td>384</td>\n",
       "    </tr>\n",
       "    <tr>\n",
       "      <th>4</th>\n",
       "      <td>id_cliente</td>\n",
       "      <td>int64</td>\n",
       "      <td>0</td>\n",
       "      <td>18839</td>\n",
       "      <td>19051</td>\n",
       "      <td>19052</td>\n",
       "    </tr>\n",
       "    <tr>\n",
       "      <th>5</th>\n",
       "      <td>no._venda</td>\n",
       "      <td>object</td>\n",
       "      <td>0</td>\n",
       "      <td>200805093CS607</td>\n",
       "      <td>200805123CS567</td>\n",
       "      <td>200805143CS576</td>\n",
       "    </tr>\n",
       "    <tr>\n",
       "      <th>6</th>\n",
       "      <td>custo_unitário</td>\n",
       "      <td>float64</td>\n",
       "      <td>0</td>\n",
       "      <td>348.58</td>\n",
       "      <td>348.58</td>\n",
       "      <td>348.58</td>\n",
       "    </tr>\n",
       "    <tr>\n",
       "      <th>7</th>\n",
       "      <td>preço_unitário</td>\n",
       "      <td>float64</td>\n",
       "      <td>0</td>\n",
       "      <td>758.00</td>\n",
       "      <td>758.00</td>\n",
       "      <td>758.00</td>\n",
       "    </tr>\n",
       "    <tr>\n",
       "      <th>8</th>\n",
       "      <td>quantidade</td>\n",
       "      <td>int64</td>\n",
       "      <td>0</td>\n",
       "      <td>6</td>\n",
       "      <td>6</td>\n",
       "      <td>6</td>\n",
       "    </tr>\n",
       "    <tr>\n",
       "      <th>9</th>\n",
       "      <td>valor_desconto</td>\n",
       "      <td>float64</td>\n",
       "      <td>0</td>\n",
       "      <td>0.00</td>\n",
       "      <td>0.00</td>\n",
       "      <td>0.00</td>\n",
       "    </tr>\n",
       "    <tr>\n",
       "      <th>10</th>\n",
       "      <td>valor_venda</td>\n",
       "      <td>float64</td>\n",
       "      <td>0</td>\n",
       "      <td>4,548.00</td>\n",
       "      <td>4,548.00</td>\n",
       "      <td>4,548.00</td>\n",
       "    </tr>\n",
       "    <tr>\n",
       "      <th>11</th>\n",
       "      <td>produto</td>\n",
       "      <td>object</td>\n",
       "      <td>0</td>\n",
       "      <td>Adventure Works Laptop15.4W M1548 Red</td>\n",
       "      <td>Adventure Works Laptop15.4W M1548 Red</td>\n",
       "      <td>Adventure Works Laptop15.4W M1548 Red</td>\n",
       "    </tr>\n",
       "    <tr>\n",
       "      <th>12</th>\n",
       "      <td>fabricante</td>\n",
       "      <td>object</td>\n",
       "      <td>0</td>\n",
       "      <td>Adventure Works</td>\n",
       "      <td>Adventure Works</td>\n",
       "      <td>Adventure Works</td>\n",
       "    </tr>\n",
       "    <tr>\n",
       "      <th>13</th>\n",
       "      <td>marca</td>\n",
       "      <td>object</td>\n",
       "      <td>0</td>\n",
       "      <td>Adventure Works</td>\n",
       "      <td>Adventure Works</td>\n",
       "      <td>Adventure Works</td>\n",
       "    </tr>\n",
       "    <tr>\n",
       "      <th>14</th>\n",
       "      <td>classe</td>\n",
       "      <td>object</td>\n",
       "      <td>0</td>\n",
       "      <td>Regular</td>\n",
       "      <td>Regular</td>\n",
       "      <td>Regular</td>\n",
       "    </tr>\n",
       "    <tr>\n",
       "      <th>15</th>\n",
       "      <td>cor</td>\n",
       "      <td>object</td>\n",
       "      <td>0</td>\n",
       "      <td>Red</td>\n",
       "      <td>Red</td>\n",
       "      <td>Red</td>\n",
       "    </tr>\n",
       "  </tbody>\n",
       "</table>\n",
       "</div>"
      ],
      "text/plain": [
       "      columns_name      data_types  number_of_null                            register_01                            register_02                            register_03\n",
       "0       data_venda  datetime64[ns]               0                    2008-05-09 00:00:00                    2008-05-12 00:00:00                    2008-05-14 00:00:00\n",
       "1       data_envio  datetime64[ns]               0                    2008-05-29 00:00:00                    2008-05-17 00:00:00                    2008-05-20 00:00:00\n",
       "2          id_loja           int64               0                                    199                                    306                                    306\n",
       "3       id_produto           int64               0                                    384                                    384                                    384\n",
       "4       id_cliente           int64               0                                  18839                                  19051                                  19052\n",
       "5        no._venda          object               0                         200805093CS607                         200805123CS567                         200805143CS576\n",
       "6   custo_unitário         float64               0                                 348.58                                 348.58                                 348.58\n",
       "7   preço_unitário         float64               0                                 758.00                                 758.00                                 758.00\n",
       "8       quantidade           int64               0                                      6                                      6                                      6\n",
       "9   valor_desconto         float64               0                                   0.00                                   0.00                                   0.00\n",
       "10     valor_venda         float64               0                               4,548.00                               4,548.00                               4,548.00\n",
       "11         produto          object               0  Adventure Works Laptop15.4W M1548 Red  Adventure Works Laptop15.4W M1548 Red  Adventure Works Laptop15.4W M1548 Red\n",
       "12      fabricante          object               0                        Adventure Works                        Adventure Works                        Adventure Works\n",
       "13           marca          object               0                        Adventure Works                        Adventure Works                        Adventure Works\n",
       "14          classe          object               0                                Regular                                Regular                                Regular\n",
       "15             cor          object               0                                    Red                                    Red                                    Red"
      ]
     },
     "execution_count": 165,
     "metadata": {},
     "output_type": "execute_result"
    }
   ],
   "source": [
    "# Showing Data types, numbers of null or NaN and first three registers\n",
    "null_dtypes = pd.concat([pd.concat([data_raw.dtypes, data_raw.isna().sum()], axis=1), data_raw.head(3).T], axis=1).reset_index()\n",
    "null_dtypes.columns = ['columns_name', 'data_types', 'number_of_null', 'register_01','register_02','register_03']\n",
    "null_dtypes"
   ]
  },
  {
   "cell_type": "markdown",
   "id": "e8649cc7-6770-45b1-9ac0-f87fb2838341",
   "metadata": {},
   "source": [
    "All variables are correctly datatype and no nullable"
   ]
  },
  {
   "cell_type": "markdown",
   "id": "d283bebe-63fc-4ca8-9006-c8ce6be1802c",
   "metadata": {},
   "source": [
    "You can you use schema to validate all data before cleaning or after cleaning see more here <a href=\"https://pandera.readthedocs.io/en/stable/\">pandera data validation</a>"
   ]
  },
  {
   "cell_type": "markdown",
   "id": "f767d264-f7c0-4c10-a8c7-63db2e9a45d1",
   "metadata": {
    "execution": {
     "iopub.execute_input": "2021-09-05T13:35:12.690807Z",
     "iopub.status.busy": "2021-09-05T13:35:12.690336Z",
     "iopub.status.idle": "2021-09-05T13:35:12.697006Z",
     "shell.execute_reply": "2021-09-05T13:35:12.695955Z",
     "shell.execute_reply.started": "2021-09-05T13:35:12.690752Z"
    },
    "jp-MarkdownHeadingCollapsed": true,
    "tags": []
   },
   "source": [
    "### 3.4 - Descriptive Analysis"
   ]
  },
  {
   "cell_type": "code",
   "execution_count": 166,
   "id": "25bd6529-ddb4-4c17-b2fd-b7c311c196e4",
   "metadata": {
    "execution": {
     "iopub.execute_input": "2021-09-05T20:52:01.405796Z",
     "iopub.status.busy": "2021-09-05T20:52:01.405308Z",
     "iopub.status.idle": "2021-09-05T20:52:01.459254Z",
     "shell.execute_reply": "2021-09-05T20:52:01.458681Z",
     "shell.execute_reply.started": "2021-09-05T20:52:01.405768Z"
    },
    "tags": []
   },
   "outputs": [
    {
     "data": {
      "text/html": [
       "<div>\n",
       "<style scoped>\n",
       "    .dataframe tbody tr th:only-of-type {\n",
       "        vertical-align: middle;\n",
       "    }\n",
       "\n",
       "    .dataframe tbody tr th {\n",
       "        vertical-align: top;\n",
       "    }\n",
       "\n",
       "    .dataframe thead th {\n",
       "        text-align: right;\n",
       "    }\n",
       "</style>\n",
       "<table border=\"1\" class=\"dataframe\">\n",
       "  <thead>\n",
       "    <tr style=\"text-align: right;\">\n",
       "      <th></th>\n",
       "      <th>count</th>\n",
       "      <th>mean</th>\n",
       "      <th>min</th>\n",
       "      <th>25%</th>\n",
       "      <th>50%</th>\n",
       "      <th>75%</th>\n",
       "      <th>max</th>\n",
       "      <th>std</th>\n",
       "    </tr>\n",
       "  </thead>\n",
       "  <tbody>\n",
       "    <tr>\n",
       "      <th>data_venda</th>\n",
       "      <td>904</td>\n",
       "      <td>2009-01-01 23:42:28.672566528</td>\n",
       "      <td>2008-01-02 00:00:00</td>\n",
       "      <td>2008-07-04 18:00:00</td>\n",
       "      <td>2008-12-24 00:00:00</td>\n",
       "      <td>2009-06-22 06:00:00</td>\n",
       "      <td>2009-12-31 00:00:00</td>\n",
       "      <td>NaN</td>\n",
       "    </tr>\n",
       "    <tr>\n",
       "      <th>data_envio</th>\n",
       "      <td>904</td>\n",
       "      <td>2009-01-10 12:44:36.106194688</td>\n",
       "      <td>2008-01-12 00:00:00</td>\n",
       "      <td>2008-07-11 18:00:00</td>\n",
       "      <td>2008-12-29 12:00:00</td>\n",
       "      <td>2009-07-03 06:00:00</td>\n",
       "      <td>2010-01-12 00:00:00</td>\n",
       "      <td>NaN</td>\n",
       "    </tr>\n",
       "    <tr>\n",
       "      <th>id_loja</th>\n",
       "      <td>904.00</td>\n",
       "      <td>270.02</td>\n",
       "      <td>199.00</td>\n",
       "      <td>199.00</td>\n",
       "      <td>306.00</td>\n",
       "      <td>307.00</td>\n",
       "      <td>307.00</td>\n",
       "      <td>50.96</td>\n",
       "    </tr>\n",
       "    <tr>\n",
       "      <th>id_produto</th>\n",
       "      <td>904.00</td>\n",
       "      <td>1,225.24</td>\n",
       "      <td>366.00</td>\n",
       "      <td>384.00</td>\n",
       "      <td>1,202.00</td>\n",
       "      <td>1,226.00</td>\n",
       "      <td>2,497.00</td>\n",
       "      <td>706.70</td>\n",
       "    </tr>\n",
       "    <tr>\n",
       "      <th>id_cliente</th>\n",
       "      <td>904.00</td>\n",
       "      <td>19,029.09</td>\n",
       "      <td>18,815.00</td>\n",
       "      <td>18,964.75</td>\n",
       "      <td>19,060.00</td>\n",
       "      <td>19,107.00</td>\n",
       "      <td>19,145.00</td>\n",
       "      <td>96.43</td>\n",
       "    </tr>\n",
       "    <tr>\n",
       "      <th>custo_unitário</th>\n",
       "      <td>904.00</td>\n",
       "      <td>272.01</td>\n",
       "      <td>5.09</td>\n",
       "      <td>324.69</td>\n",
       "      <td>330.66</td>\n",
       "      <td>348.58</td>\n",
       "      <td>348.58</td>\n",
       "      <td>129.77</td>\n",
       "    </tr>\n",
       "    <tr>\n",
       "      <th>preço_unitário</th>\n",
       "      <td>904.00</td>\n",
       "      <td>742.53</td>\n",
       "      <td>9.99</td>\n",
       "      <td>758.00</td>\n",
       "      <td>980.00</td>\n",
       "      <td>998.00</td>\n",
       "      <td>999.00</td>\n",
       "      <td>368.59</td>\n",
       "    </tr>\n",
       "    <tr>\n",
       "      <th>quantidade</th>\n",
       "      <td>904.00</td>\n",
       "      <td>62.95</td>\n",
       "      <td>2.00</td>\n",
       "      <td>6.00</td>\n",
       "      <td>9.00</td>\n",
       "      <td>17.00</td>\n",
       "      <td>1,560.00</td>\n",
       "      <td>148.95</td>\n",
       "    </tr>\n",
       "    <tr>\n",
       "      <th>valor_desconto</th>\n",
       "      <td>904.00</td>\n",
       "      <td>689.12</td>\n",
       "      <td>0.00</td>\n",
       "      <td>0.00</td>\n",
       "      <td>461.17</td>\n",
       "      <td>1,005.08</td>\n",
       "      <td>6,272.00</td>\n",
       "      <td>822.36</td>\n",
       "    </tr>\n",
       "    <tr>\n",
       "      <th>valor_venda</th>\n",
       "      <td>904.00</td>\n",
       "      <td>6,620.14</td>\n",
       "      <td>159.84</td>\n",
       "      <td>3,920.00</td>\n",
       "      <td>5,798.70</td>\n",
       "      <td>7,986.00</td>\n",
       "      <td>29,400.00</td>\n",
       "      <td>4,319.41</td>\n",
       "    </tr>\n",
       "  </tbody>\n",
       "</table>\n",
       "</div>"
      ],
      "text/plain": [
       "                              count                           mean                  min                  25%                  50%                  75%                  max                  std\n",
       "data_venda                      904  2009-01-01 23:42:28.672566528  2008-01-02 00:00:00  2008-07-04 18:00:00  2008-12-24 00:00:00  2009-06-22 06:00:00  2009-12-31 00:00:00                  NaN\n",
       "data_envio                      904  2009-01-10 12:44:36.106194688  2008-01-12 00:00:00  2008-07-11 18:00:00  2008-12-29 12:00:00  2009-07-03 06:00:00  2010-01-12 00:00:00                  NaN\n",
       "id_loja                      904.00                         270.02               199.00               199.00               306.00               307.00               307.00                50.96\n",
       "id_produto                   904.00                       1,225.24               366.00               384.00             1,202.00             1,226.00             2,497.00               706.70\n",
       "id_cliente                   904.00                      19,029.09            18,815.00            18,964.75            19,060.00            19,107.00            19,145.00                96.43\n",
       "custo_unitário               904.00                         272.01                 5.09               324.69               330.66               348.58               348.58               129.77\n",
       "preço_unitário               904.00                         742.53                 9.99               758.00               980.00               998.00               999.00               368.59\n",
       "quantidade                   904.00                          62.95                 2.00                 6.00                 9.00                17.00             1,560.00               148.95\n",
       "valor_desconto               904.00                         689.12                 0.00                 0.00               461.17             1,005.08             6,272.00               822.36\n",
       "valor_venda                  904.00                       6,620.14               159.84             3,920.00             5,798.70             7,986.00            29,400.00             4,319.41"
      ]
     },
     "execution_count": 166,
     "metadata": {},
     "output_type": "execute_result"
    }
   ],
   "source": [
    "# Descriptive analysis of central tendency\n",
    "data_raw.describe(datetime_is_numeric=True).T"
   ]
  },
  {
   "cell_type": "markdown",
   "id": "2fe8071c-1d8d-428d-bd92-405f7a7a0565",
   "metadata": {},
   "source": [
    "First of all, the data look good, no exception and dirty"
   ]
  },
  {
   "cell_type": "markdown",
   "id": "ef90f907-1de3-4478-85e9-a1cead553985",
   "metadata": {
    "execution": {
     "iopub.execute_input": "2021-09-05T13:35:12.690807Z",
     "iopub.status.busy": "2021-09-05T13:35:12.690336Z",
     "iopub.status.idle": "2021-09-05T13:35:12.697006Z",
     "shell.execute_reply": "2021-09-05T13:35:12.695955Z",
     "shell.execute_reply.started": "2021-09-05T13:35:12.690752Z"
    },
    "jp-MarkdownHeadingCollapsed": true,
    "tags": []
   },
   "source": [
    "### 3.5 - Data Inconsistency"
   ]
  },
  {
   "cell_type": "markdown",
   "id": "8c4c49da-2e1c-4033-b6f1-8a912528f21f",
   "metadata": {},
   "source": [
    "1. there are data out of range ?\n",
    "    - No\n",
    "2. there are cost righer than sale price?\n",
    "    - No\n",
    "3. there are empty field?\n",
    "    - No\n",
    "4. there are color, class, brand, manufacture and product ouline name ('possible input error')?"
   ]
  },
  {
   "cell_type": "code",
   "execution_count": 203,
   "id": "552a1d0d-03ff-4f87-9974-4aaf065bebee",
   "metadata": {
    "execution": {
     "iopub.execute_input": "2021-09-05T21:29:43.608250Z",
     "iopub.status.busy": "2021-09-05T21:29:43.607747Z",
     "iopub.status.idle": "2021-09-05T21:29:43.623709Z",
     "shell.execute_reply": "2021-09-05T21:29:43.623096Z",
     "shell.execute_reply.started": "2021-09-05T21:29:43.608192Z"
    },
    "tags": []
   },
   "outputs": [
    {
     "data": {
      "text/html": [
       "<div>\n",
       "<style scoped>\n",
       "    .dataframe tbody tr th:only-of-type {\n",
       "        vertical-align: middle;\n",
       "    }\n",
       "\n",
       "    .dataframe tbody tr th {\n",
       "        vertical-align: top;\n",
       "    }\n",
       "\n",
       "    .dataframe thead th {\n",
       "        text-align: right;\n",
       "    }\n",
       "</style>\n",
       "<table border=\"1\" class=\"dataframe\">\n",
       "  <thead>\n",
       "    <tr style=\"text-align: right;\">\n",
       "      <th></th>\n",
       "      <th>columns_name</th>\n",
       "      <th>lower_date</th>\n",
       "      <th>upper_date</th>\n",
       "    </tr>\n",
       "  </thead>\n",
       "  <tbody>\n",
       "    <tr>\n",
       "      <th>0</th>\n",
       "      <td>data_venda</td>\n",
       "      <td>2008-01-02</td>\n",
       "      <td>2009-12-31</td>\n",
       "    </tr>\n",
       "    <tr>\n",
       "      <th>1</th>\n",
       "      <td>data_envio</td>\n",
       "      <td>2008-01-12</td>\n",
       "      <td>2010-01-12</td>\n",
       "    </tr>\n",
       "  </tbody>\n",
       "</table>\n",
       "</div>"
      ],
      "text/plain": [
       "  columns_name lower_date upper_date\n",
       "0   data_venda 2008-01-02 2009-12-31\n",
       "1   data_envio 2008-01-12 2010-01-12"
      ]
     },
     "execution_count": 203,
     "metadata": {},
     "output_type": "execute_result"
    }
   ],
   "source": [
    "# 1.0 There are data out of range -> NO\n",
    "\n",
    "dates = pd.concat([data_raw.select_dtypes(include='datetime').min(), \n",
    "                   data_raw.select_dtypes(include='datetime').max()], axis=1).reset_index()\n",
    "dates.columns = ['columns_name', 'lower_date', 'upper_date']\n",
    "dates"
   ]
  },
  {
   "cell_type": "code",
   "execution_count": 196,
   "id": "0addcd25-0ae8-48df-ad3a-75866eef8bfa",
   "metadata": {
    "execution": {
     "iopub.execute_input": "2021-09-05T21:26:45.801888Z",
     "iopub.status.busy": "2021-09-05T21:26:45.801337Z",
     "iopub.status.idle": "2021-09-05T21:26:46.419530Z",
     "shell.execute_reply": "2021-09-05T21:26:46.418810Z",
     "shell.execute_reply.started": "2021-09-05T21:26:45.801827Z"
    },
    "tags": []
   },
   "outputs": [
    {
     "name": "stdout",
     "output_type": "stream",
     "text": [
      "Lower date: data_venda   2008-01-02\n",
      "data_envio   2008-01-12\n",
      "dtype: datetime64[ns]\n"
     ]
    },
    {
     "data": {
      "image/png": "[encoded data removed]",
      "text/plain": [
       "<Figure size 1800x864 with 2 Axes>"
      ]
     },
     "metadata": {},
     "output_type": "display_data"
    }
   ],
   "source": [
    "data_raw.select_dtypes(include='datetime').hist(bins=30);"
   ]
  },
  {
   "cell_type": "code",
   "execution_count": 383,
   "id": "b3f9176d-1440-4c35-8060-a4ed552da376",
   "metadata": {
    "execution": {
     "iopub.execute_input": "2021-09-05T22:38:45.441480Z",
     "iopub.status.busy": "2021-09-05T22:38:45.440451Z",
     "iopub.status.idle": "2021-09-05T22:38:45.456393Z",
     "shell.execute_reply": "2021-09-05T22:38:45.455655Z",
     "shell.execute_reply.started": "2021-09-05T22:38:45.441448Z"
    },
    "tags": []
   },
   "outputs": [
    {
     "name": "stdout",
     "output_type": "stream",
     "text": [
      "Number of register with cost upper than price sale:  0\n"
     ]
    },
    {
     "data": {
      "text/html": [
       "<div>\n",
       "<style scoped>\n",
       "    .dataframe tbody tr th:only-of-type {\n",
       "        vertical-align: middle;\n",
       "    }\n",
       "\n",
       "    .dataframe tbody tr th {\n",
       "        vertical-align: top;\n",
       "    }\n",
       "\n",
       "    .dataframe thead th {\n",
       "        text-align: right;\n",
       "    }\n",
       "</style>\n",
       "<table border=\"1\" class=\"dataframe\">\n",
       "  <thead>\n",
       "    <tr style=\"text-align: right;\">\n",
       "      <th></th>\n",
       "      <th>data_venda</th>\n",
       "      <th>data_envio</th>\n",
       "      <th>id_loja</th>\n",
       "      <th>id_produto</th>\n",
       "      <th>id_cliente</th>\n",
       "      <th>no._venda</th>\n",
       "      <th>custo_unitário</th>\n",
       "      <th>preço_unitário</th>\n",
       "      <th>quantidade</th>\n",
       "      <th>valor_desconto</th>\n",
       "      <th>valor_venda</th>\n",
       "      <th>produto</th>\n",
       "      <th>fabricante</th>\n",
       "      <th>marca</th>\n",
       "      <th>classe</th>\n",
       "      <th>cor</th>\n",
       "    </tr>\n",
       "  </thead>\n",
       "  <tbody>\n",
       "  </tbody>\n",
       "</table>\n",
       "</div>"
      ],
      "text/plain": [
       "Empty DataFrame\n",
       "Columns: [data_venda, data_envio, id_loja, id_produto, id_cliente, no._venda, custo_unitário, preço_unitário, quantidade, valor_desconto, valor_venda, produto, fabricante, marca, classe, cor]\n",
       "Index: []"
      ]
     },
     "execution_count": 383,
     "metadata": {},
     "output_type": "execute_result"
    }
   ],
   "source": [
    "# 2. There are cost righer than sale price?\n",
    "print('Number of register with cost upper than price sale: ', data_raw.query('custo_unitário >= preço_unitário').shape[0])\n",
    "data_raw.query('custo_unitário >= preço_unitário').head()"
   ]
  },
  {
   "cell_type": "code",
   "execution_count": 390,
   "id": "a7a77c42-461b-45e9-a1ea-934c6857f0f5",
   "metadata": {
    "execution": {
     "iopub.execute_input": "2021-09-05T22:40:33.341662Z",
     "iopub.status.busy": "2021-09-05T22:40:33.337467Z",
     "iopub.status.idle": "2021-09-05T22:40:33.393846Z",
     "shell.execute_reply": "2021-09-05T22:40:33.391841Z",
     "shell.execute_reply.started": "2021-09-05T22:40:33.341611Z"
    },
    "tags": []
   },
   "outputs": [
    {
     "data": {
      "text/html": [
       "<div>\n",
       "<style scoped>\n",
       "    .dataframe tbody tr th:only-of-type {\n",
       "        vertical-align: middle;\n",
       "    }\n",
       "\n",
       "    .dataframe tbody tr th {\n",
       "        vertical-align: top;\n",
       "    }\n",
       "\n",
       "    .dataframe thead th {\n",
       "        text-align: right;\n",
       "    }\n",
       "</style>\n",
       "<table border=\"1\" class=\"dataframe\">\n",
       "  <thead>\n",
       "    <tr style=\"text-align: right;\">\n",
       "      <th></th>\n",
       "      <th>0</th>\n",
       "      <th>1</th>\n",
       "      <th>2</th>\n",
       "      <th>3</th>\n",
       "      <th>4</th>\n",
       "      <th>5</th>\n",
       "      <th>6</th>\n",
       "      <th>7</th>\n",
       "      <th>8</th>\n",
       "      <th>9</th>\n",
       "      <th>10</th>\n",
       "      <th>11</th>\n",
       "      <th>12</th>\n",
       "      <th>13</th>\n",
       "      <th>14</th>\n",
       "      <th>15</th>\n",
       "    </tr>\n",
       "  </thead>\n",
       "  <tbody>\n",
       "    <tr>\n",
       "      <th>index</th>\n",
       "      <td>[]</td>\n",
       "      <td>[]</td>\n",
       "      <td>[]</td>\n",
       "      <td>[]</td>\n",
       "      <td>[]</td>\n",
       "      <td>[]</td>\n",
       "      <td>[]</td>\n",
       "      <td>[]</td>\n",
       "      <td>[]</td>\n",
       "      <td>[]</td>\n",
       "      <td>[]</td>\n",
       "      <td>[]</td>\n",
       "      <td>[]</td>\n",
       "      <td>[]</td>\n",
       "      <td>[]</td>\n",
       "      <td>[]</td>\n",
       "    </tr>\n",
       "    <tr>\n",
       "      <th>columns_name</th>\n",
       "      <td>data_venda</td>\n",
       "      <td>data_envio</td>\n",
       "      <td>id_loja</td>\n",
       "      <td>id_produto</td>\n",
       "      <td>id_cliente</td>\n",
       "      <td>no._venda</td>\n",
       "      <td>custo_unitário</td>\n",
       "      <td>preço_unitário</td>\n",
       "      <td>quantidade</td>\n",
       "      <td>valor_desconto</td>\n",
       "      <td>valor_venda</td>\n",
       "      <td>produto</td>\n",
       "      <td>fabricante</td>\n",
       "      <td>marca</td>\n",
       "      <td>classe</td>\n",
       "      <td>cor</td>\n",
       "    </tr>\n",
       "  </tbody>\n",
       "</table>\n",
       "</div>"
      ],
      "text/plain": [
       "                      0           1        2           3           4          5               6               7           8               9            10       11          12     13      14   15\n",
       "index                 []          []       []          []          []         []              []              []          []              []           []       []          []     []      []   []\n",
       "columns_name  data_venda  data_envio  id_loja  id_produto  id_cliente  no._venda  custo_unitário  preço_unitário  quantidade  valor_desconto  valor_venda  produto  fabricante  marca  classe  cor"
      ]
     },
     "execution_count": 390,
     "metadata": {},
     "output_type": "execute_result"
    }
   ],
   "source": [
    "# 3. there are empty field?\n",
    "lista = list()\n",
    "for name in data_raw.columns:\n",
    "    lista.append([data_raw[name][data_raw[name].isin(['', ' '])].index.to_list(), name])\n",
    "pd.DataFrame(lista, columns=['index', 'columns_name']).T"
   ]
  },
  {
   "cell_type": "code",
   "execution_count": 397,
   "id": "b1ab94ca-60c4-4e47-828b-ee4aed27c377",
   "metadata": {
    "execution": {
     "iopub.execute_input": "2021-09-05T23:44:21.224509Z",
     "iopub.status.busy": "2021-09-05T23:44:21.223988Z",
     "iopub.status.idle": "2021-09-05T23:44:21.241302Z",
     "shell.execute_reply": "2021-09-05T23:44:21.240538Z",
     "shell.execute_reply.started": "2021-09-05T23:44:21.224457Z"
    },
    "tags": []
   },
   "outputs": [
    {
     "data": {
      "text/plain": [
       "(Black     315\n",
       " Grey      212\n",
       " White     175\n",
       " Red       115\n",
       " Silver     87\n",
       " Name: cor, dtype: int64,\n",
       " Regular    732\n",
       " Economy    172\n",
       " Name: classe, dtype: int64,\n",
       " Fabrikam, Inc.     494\n",
       " Adventure Works    238\n",
       " Contoso, Ltd       172\n",
       " Name: fabricante, dtype: int64,\n",
       " Adventure Works Laptop15.4W M1548 Black            123\n",
       " Fabrikam Trendsetter 2/3'' 17mm X100 Grey          118\n",
       " Adventure Works Laptop15.4W M1548 Red              115\n",
       " Fabrikam Trendsetter 2/3'' 17mm X100 Black         103\n",
       " Fabrikam Trendsetter 1/3'' 8.5mm X200 Grey          94\n",
       " Fabrikam Trendsetter 1/3'' 8.5mm X200 White         90\n",
       " Fabrikam Trendsetter 1/3'' 8.5mm X200 Black         89\n",
       " Headphone Adapter for Contoso Phone E130 Silver     87\n",
       " Headphone Adapter for Contoso Phone E130 White      85\n",
       " Name: produto, dtype: int64)"
      ]
     },
     "execution_count": 397,
     "metadata": {},
     "output_type": "execute_result"
    }
   ],
   "source": [
    "# 4. there are color, class, brand, manufacture and product outline name ('possible input error')?\n",
    "(data_raw['cor'].value_counts(),\n",
    "data_raw['classe'].value_counts(),\n",
    "data_raw['fabricante'].value_counts(),\n",
    "data_raw['produto'].value_counts())"
   ]
  },
  {
   "cell_type": "markdown",
   "id": "4476b3ab-1364-4912-ba6b-cb69eb405887",
   "metadata": {},
   "source": [
    "Data register are all right"
   ]
  },
  {
   "cell_type": "markdown",
   "id": "302b17fe-1ce2-4dba-ac8f-e5bc3143fc0e",
   "metadata": {
    "execution": {
     "iopub.execute_input": "2021-09-05T13:35:12.690807Z",
     "iopub.status.busy": "2021-09-05T13:35:12.690336Z",
     "iopub.status.idle": "2021-09-05T13:35:12.697006Z",
     "shell.execute_reply": "2021-09-05T13:35:12.695955Z",
     "shell.execute_reply.started": "2021-09-05T13:35:12.690752Z"
    },
    "tags": []
   },
   "source": [
    "### 3.6 - Feature Engineering"
   ]
  },
  {
   "cell_type": "code",
   "execution_count": null,
   "id": "9110248a-85b5-4631-b4cc-6760a4535eff",
   "metadata": {},
   "outputs": [],
   "source": [
    "data_raw['margem_lucro'] = data_raw['preço_unitário'] - data_raw['custo_unitário']\n"
   ]
  },
  {
   "cell_type": "markdown",
   "id": "da0bdf44-4b64-40dc-90c0-2cd73081b7f4",
   "metadata": {
    "execution": {
     "iopub.execute_input": "2021-09-05T13:35:12.690807Z",
     "iopub.status.busy": "2021-09-05T13:35:12.690336Z",
     "iopub.status.idle": "2021-09-05T13:35:12.697006Z",
     "shell.execute_reply": "2021-09-05T13:35:12.695955Z",
     "shell.execute_reply.started": "2021-09-05T13:35:12.690752Z"
    },
    "tags": []
   },
   "source": [
    "### 3.7 - Data Load"
   ]
  },
  {
   "cell_type": "code",
   "execution_count": 399,
   "id": "2a75be45-5960-4d2e-8e81-175d2c9f8f45",
   "metadata": {
    "execution": {
     "iopub.execute_input": "2021-09-06T00:09:20.664559Z",
     "iopub.status.busy": "2021-09-06T00:09:20.664036Z",
     "iopub.status.idle": "2021-09-06T00:09:20.674021Z",
     "shell.execute_reply": "2021-09-06T00:09:20.672573Z",
     "shell.execute_reply.started": "2021-09-06T00:09:20.664497Z"
    },
    "tags": []
   },
   "outputs": [],
   "source": [
    "dataframe = data_raw.copy()"
   ]
  },
  {
   "cell_type": "markdown",
   "id": "ee70557e-7ec3-4d3a-ad2d-55198edaff83",
   "metadata": {
    "execution": {
     "iopub.execute_input": "2021-09-05T13:35:12.690807Z",
     "iopub.status.busy": "2021-09-05T13:35:12.690336Z",
     "iopub.status.idle": "2021-09-05T13:35:12.697006Z",
     "shell.execute_reply": "2021-09-05T13:35:12.695955Z",
     "shell.execute_reply.started": "2021-09-05T13:35:12.690752Z"
    },
    "tags": []
   },
   "source": [
    "## 4.0 - Exploratory Data Analysis"
   ]
  },
  {
   "cell_type": "markdown",
   "id": "189a0aaf-c184-4b82-85c4-c119117ac29d",
   "metadata": {
    "execution": {
     "iopub.execute_input": "2021-09-05T13:35:12.690807Z",
     "iopub.status.busy": "2021-09-05T13:35:12.690336Z",
     "iopub.status.idle": "2021-09-05T13:35:12.697006Z",
     "shell.execute_reply": "2021-09-05T13:35:12.695955Z",
     "shell.execute_reply.started": "2021-09-05T13:35:12.690752Z"
    },
    "tags": []
   },
   "source": [
    "### 4.1 - Business Questions"
   ]
  },
  {
   "cell_type": "markdown",
   "id": "a4de6a85-b77e-413f-a2c4-4eb39af021e3",
   "metadata": {},
   "source": [
    "#### 4.1.1 - What are the best three profit products."
   ]
  },
  {
   "cell_type": "code",
   "execution_count": 420,
   "id": "89a7b9f3-5ff2-4aa3-9418-efa801cf265d",
   "metadata": {
    "execution": {
     "iopub.execute_input": "2021-09-06T00:40:54.527276Z",
     "iopub.status.busy": "2021-09-06T00:40:54.526871Z",
     "iopub.status.idle": "2021-09-06T00:40:54.542963Z",
     "shell.execute_reply": "2021-09-06T00:40:54.542161Z",
     "shell.execute_reply.started": "2021-09-06T00:40:54.527229Z"
    },
    "tags": []
   },
   "outputs": [
    {
     "data": {
      "text/html": [
       "<div>\n",
       "<style scoped>\n",
       "    .dataframe tbody tr th:only-of-type {\n",
       "        vertical-align: middle;\n",
       "    }\n",
       "\n",
       "    .dataframe tbody tr th {\n",
       "        vertical-align: top;\n",
       "    }\n",
       "\n",
       "    .dataframe thead th {\n",
       "        text-align: right;\n",
       "    }\n",
       "</style>\n",
       "<table border=\"1\" class=\"dataframe\">\n",
       "  <thead>\n",
       "    <tr style=\"text-align: right;\">\n",
       "      <th></th>\n",
       "      <th>produto</th>\n",
       "      <th>margem_lucro</th>\n",
       "    </tr>\n",
       "  </thead>\n",
       "  <tbody>\n",
       "    <tr>\n",
       "      <th>0</th>\n",
       "      <td>Fabrikam Trendsetter 1/3'' 8.5mm X200 Black</td>\n",
       "      <td>668.01</td>\n",
       "    </tr>\n",
       "    <tr>\n",
       "      <th>1</th>\n",
       "      <td>Fabrikam Trendsetter 1/3'' 8.5mm X200 Grey</td>\n",
       "      <td>667.34</td>\n",
       "    </tr>\n",
       "    <tr>\n",
       "      <th>2</th>\n",
       "      <td>Fabrikam Trendsetter 1/3'' 8.5mm X200 White</td>\n",
       "      <td>667.34</td>\n",
       "    </tr>\n",
       "  </tbody>\n",
       "</table>\n",
       "</div>"
      ],
      "text/plain": [
       "                                       produto         margem_lucro\n",
       "0  Fabrikam Trendsetter 1/3'' 8.5mm X200 Black               668.01\n",
       "1   Fabrikam Trendsetter 1/3'' 8.5mm X200 Grey               667.34\n",
       "2  Fabrikam Trendsetter 1/3'' 8.5mm X200 White               667.34"
      ]
     },
     "execution_count": 420,
     "metadata": {},
     "output_type": "execute_result"
    }
   ],
   "source": [
    "dataframe.groupby(['produto'])['margem_lucro'].mean().sort_values(ascending=False).reset_index().head(3)"
   ]
  },
  {
   "cell_type": "code",
   "execution_count": 421,
   "id": "fa62f7da-322b-42e9-acec-9b3a7fa06d9b",
   "metadata": {
    "execution": {
     "iopub.execute_input": "2021-09-06T00:44:53.800182Z",
     "iopub.status.busy": "2021-09-06T00:44:53.799598Z",
     "iopub.status.idle": "2021-09-06T00:44:53.830559Z",
     "shell.execute_reply": "2021-09-06T00:44:53.829858Z",
     "shell.execute_reply.started": "2021-09-06T00:44:53.800111Z"
    },
    "tags": []
   },
   "outputs": [
    {
     "data": {
      "text/html": [
       "<div>\n",
       "<style scoped>\n",
       "    .dataframe tbody tr th:only-of-type {\n",
       "        vertical-align: middle;\n",
       "    }\n",
       "\n",
       "    .dataframe tbody tr th {\n",
       "        vertical-align: top;\n",
       "    }\n",
       "\n",
       "    .dataframe thead th {\n",
       "        text-align: right;\n",
       "    }\n",
       "</style>\n",
       "<table border=\"1\" class=\"dataframe\">\n",
       "  <thead>\n",
       "    <tr style=\"text-align: right;\">\n",
       "      <th></th>\n",
       "      <th>produto</th>\n",
       "      <th>margem_lucro</th>\n",
       "    </tr>\n",
       "  </thead>\n",
       "  <tbody>\n",
       "    <tr>\n",
       "      <th>0</th>\n",
       "      <td>Headphone Adapter for Contoso Phone E130 Silver</td>\n",
       "      <td>4.90</td>\n",
       "    </tr>\n",
       "    <tr>\n",
       "      <th>1</th>\n",
       "      <td>Headphone Adapter for Contoso Phone E130 White</td>\n",
       "      <td>4.90</td>\n",
       "    </tr>\n",
       "    <tr>\n",
       "      <th>2</th>\n",
       "      <td>Adventure Works Laptop15.4W M1548 Black</td>\n",
       "      <td>409.42</td>\n",
       "    </tr>\n",
       "  </tbody>\n",
       "</table>\n",
       "</div>"
      ],
      "text/plain": [
       "                                           produto         margem_lucro\n",
       "0  Headphone Adapter for Contoso Phone E130 Silver                 4.90\n",
       "1   Headphone Adapter for Contoso Phone E130 White                 4.90\n",
       "2          Adventure Works Laptop15.4W M1548 Black               409.42"
      ]
     },
     "execution_count": 421,
     "metadata": {},
     "output_type": "execute_result"
    }
   ],
   "source": [
    "dataframe.groupby(['produto'])['margem_lucro'].mean().sort_values().reset_index().head(3)"
   ]
  },
  {
   "cell_type": "markdown",
   "id": "b2ea61bd-c56b-45b6-8333-f2a1a2587c4c",
   "metadata": {},
   "source": [
    "#### 4.1.2 - What are the worst three profit products."
   ]
  },
  {
   "cell_type": "markdown",
   "id": "8d6c3567-f411-4beb-ae5d-6a511bb72506",
   "metadata": {},
   "source": [
    "#### 4.1.3 - What are the best three store sale."
   ]
  },
  {
   "cell_type": "markdown",
   "id": "7c290898-2da5-4a1b-b1e9-c57ffd72668d",
   "metadata": {},
   "source": [
    "#### 4.1.4 - What relantionshipp between profit and others variables."
   ]
  },
  {
   "cell_type": "markdown",
   "id": "18a60937-d1df-4638-a7c1-98a5c41a16e4",
   "metadata": {},
   "source": [
    "#### 4.1.5 - What product is more sole."
   ]
  },
  {
   "cell_type": "markdown",
   "id": "f531127a-e555-483d-8c85-412e0dc31bd0",
   "metadata": {},
   "source": [
    "#### 4.1.6 - What is the average ticket price."
   ]
  },
  {
   "cell_type": "markdown",
   "id": "c24ea80e-adbb-48f9-aa3e-b2b5442385cc",
   "metadata": {},
   "source": [
    "#### 4.1.7 - What client take more profit."
   ]
  },
  {
   "cell_type": "markdown",
   "id": "669ffa18-8422-455a-a5c2-776de5e707e0",
   "metadata": {
    "execution": {
     "iopub.execute_input": "2021-09-05T13:35:12.690807Z",
     "iopub.status.busy": "2021-09-05T13:35:12.690336Z",
     "iopub.status.idle": "2021-09-05T13:35:12.697006Z",
     "shell.execute_reply": "2021-09-05T13:35:12.695955Z",
     "shell.execute_reply.started": "2021-09-05T13:35:12.690752Z"
    },
    "tags": []
   },
   "source": [
    "### 4.2 - General Exploratory Data"
   ]
  },
  {
   "cell_type": "markdown",
   "id": "0dd377d3-de5e-4c7a-ad79-b2022cd4f7ce",
   "metadata": {
    "execution": {
     "iopub.execute_input": "2021-09-05T13:35:12.690807Z",
     "iopub.status.busy": "2021-09-05T13:35:12.690336Z",
     "iopub.status.idle": "2021-09-05T13:35:12.697006Z",
     "shell.execute_reply": "2021-09-05T13:35:12.695955Z",
     "shell.execute_reply.started": "2021-09-05T13:35:12.690752Z"
    },
    "tags": []
   },
   "source": [
    "### 4.3 - Questions Answered"
   ]
  },
  {
   "cell_type": "markdown",
   "id": "af2d3a9a-1d44-433d-abb1-b72fbbc7a2f0",
   "metadata": {
    "execution": {
     "iopub.execute_input": "2021-09-05T13:35:12.690807Z",
     "iopub.status.busy": "2021-09-05T13:35:12.690336Z",
     "iopub.status.idle": "2021-09-05T13:35:12.697006Z",
     "shell.execute_reply": "2021-09-05T13:35:12.695955Z",
     "shell.execute_reply.started": "2021-09-05T13:35:12.690752Z"
    },
    "tags": []
   },
   "source": [
    "## 5.0 - Develivery"
   ]
  }
 ],
 "metadata": {
  "kernelspec": {
   "display_name": "Python 3 (ipykernel)",
   "language": "python",
   "name": "python3"
  },
  "language_info": {
   "codemirror_mode": {
    "name": "ipython",
    "version": 3
   },
   "file_extension": ".py",
   "mimetype": "text/x-python",
   "name": "python",
   "nbconvert_exporter": "python",
   "pygments_lexer": "ipython3",
   "version": "3.9.5"
  }
 },
 "nbformat": 4,
 "nbformat_minor": 5
}
