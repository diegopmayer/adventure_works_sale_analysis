{
 "cells": [
  {
   "cell_type": "markdown",
   "id": "70264b5a-5771-4ebf-b37e-03cd05dbef43",
   "metadata": {},
   "source": [
    "# Adventure Works Cycles Business Analysis"
   ]
  },
  {
   "cell_type": "markdown",
   "id": "ec1e064d-d301-43df-9414-245fdfac178f",
   "metadata": {
    "execution": {
     "iopub.execute_input": "2021-09-05T13:34:02.106124Z",
     "iopub.status.busy": "2021-09-05T13:34:02.105696Z",
     "iopub.status.idle": "2021-09-05T13:34:02.119674Z",
     "shell.execute_reply": "2021-09-05T13:34:02.118527Z",
     "shell.execute_reply.started": "2021-09-05T13:34:02.106016Z"
    }
   },
   "source": [
    "> The AdventureWorks Database supports a fictitious, multinational manufacturing company called Adventure Works Cycles"
   ]
  },
  {
   "cell_type": "markdown",
   "id": "3b45869a-230c-4536-a6e2-f51f2e12e63a",
   "metadata": {
    "execution": {
     "iopub.execute_input": "2021-09-05T13:35:12.690807Z",
     "iopub.status.busy": "2021-09-05T13:35:12.690336Z",
     "iopub.status.idle": "2021-09-05T13:35:12.697006Z",
     "shell.execute_reply": "2021-09-05T13:35:12.695955Z",
     "shell.execute_reply.started": "2021-09-05T13:35:12.690752Z"
    },
    "tags": []
   },
   "source": [
    "## 1.0 - Libraries and Functions"
   ]
  },
  {
   "cell_type": "markdown",
   "id": "43666a43-2f58-429d-9ab2-3189a0540feb",
   "metadata": {
    "execution": {
     "iopub.execute_input": "2021-09-05T13:35:12.690807Z",
     "iopub.status.busy": "2021-09-05T13:35:12.690336Z",
     "iopub.status.idle": "2021-09-05T13:35:12.697006Z",
     "shell.execute_reply": "2021-09-05T13:35:12.695955Z",
     "shell.execute_reply.started": "2021-09-05T13:35:12.690752Z"
    },
    "tags": []
   },
   "source": [
    "### 1.1 - Libraries"
   ]
  },
  {
   "cell_type": "markdown",
   "id": "d2f09766-db84-4462-8480-c368c53147c0",
   "metadata": {
    "execution": {
     "iopub.execute_input": "2021-09-05T13:35:12.690807Z",
     "iopub.status.busy": "2021-09-05T13:35:12.690336Z",
     "iopub.status.idle": "2021-09-05T13:35:12.697006Z",
     "shell.execute_reply": "2021-09-05T13:35:12.695955Z",
     "shell.execute_reply.started": "2021-09-05T13:35:12.690752Z"
    },
    "tags": []
   },
   "source": [
    "### 1.2 - Helper Functions"
   ]
  },
  {
   "cell_type": "markdown",
   "id": "07ff2ab3-50c3-4e0b-b088-679df223dd4c",
   "metadata": {
    "execution": {
     "iopub.execute_input": "2021-09-05T13:35:12.690807Z",
     "iopub.status.busy": "2021-09-05T13:35:12.690336Z",
     "iopub.status.idle": "2021-09-05T13:35:12.697006Z",
     "shell.execute_reply": "2021-09-05T13:35:12.695955Z",
     "shell.execute_reply.started": "2021-09-05T13:35:12.690752Z"
    },
    "tags": []
   },
   "source": [
    "## 2.0 - Data Extraction"
   ]
  },
  {
   "cell_type": "markdown",
   "id": "693ea333-58b0-49d7-ba0c-7b9dccad8c2a",
   "metadata": {
    "execution": {
     "iopub.execute_input": "2021-09-05T13:35:12.690807Z",
     "iopub.status.busy": "2021-09-05T13:35:12.690336Z",
     "iopub.status.idle": "2021-09-05T13:35:12.697006Z",
     "shell.execute_reply": "2021-09-05T13:35:12.695955Z",
     "shell.execute_reply.started": "2021-09-05T13:35:12.690752Z"
    },
    "tags": []
   },
   "source": [
    "## 3.0 - Data Cleaning"
   ]
  },
  {
   "cell_type": "markdown",
   "id": "6872e096-da53-45be-9ffb-6f0afd6ab2c7",
   "metadata": {
    "execution": {
     "iopub.execute_input": "2021-09-05T13:35:12.690807Z",
     "iopub.status.busy": "2021-09-05T13:35:12.690336Z",
     "iopub.status.idle": "2021-09-05T13:35:12.697006Z",
     "shell.execute_reply": "2021-09-05T13:35:12.695955Z",
     "shell.execute_reply.started": "2021-09-05T13:35:12.690752Z"
    },
    "tags": []
   },
   "source": [
    "### 3.1 - Dimensionality"
   ]
  },
  {
   "cell_type": "markdown",
   "id": "ec4671ba-7d96-4afe-94c5-c836a22b0c15",
   "metadata": {
    "execution": {
     "iopub.execute_input": "2021-09-05T13:35:12.690807Z",
     "iopub.status.busy": "2021-09-05T13:35:12.690336Z",
     "iopub.status.idle": "2021-09-05T13:35:12.697006Z",
     "shell.execute_reply": "2021-09-05T13:35:12.695955Z",
     "shell.execute_reply.started": "2021-09-05T13:35:12.690752Z"
    },
    "tags": []
   },
   "source": [
    "### 3.2 - Null and Data Type"
   ]
  },
  {
   "cell_type": "markdown",
   "id": "f767d264-f7c0-4c10-a8c7-63db2e9a45d1",
   "metadata": {
    "execution": {
     "iopub.execute_input": "2021-09-05T13:35:12.690807Z",
     "iopub.status.busy": "2021-09-05T13:35:12.690336Z",
     "iopub.status.idle": "2021-09-05T13:35:12.697006Z",
     "shell.execute_reply": "2021-09-05T13:35:12.695955Z",
     "shell.execute_reply.started": "2021-09-05T13:35:12.690752Z"
    },
    "tags": []
   },
   "source": [
    "### 3.3 - Descriptive Analysis"
   ]
  },
  {
   "cell_type": "markdown",
   "id": "ef90f907-1de3-4478-85e9-a1cead553985",
   "metadata": {
    "execution": {
     "iopub.execute_input": "2021-09-05T13:35:12.690807Z",
     "iopub.status.busy": "2021-09-05T13:35:12.690336Z",
     "iopub.status.idle": "2021-09-05T13:35:12.697006Z",
     "shell.execute_reply": "2021-09-05T13:35:12.695955Z",
     "shell.execute_reply.started": "2021-09-05T13:35:12.690752Z"
    },
    "tags": []
   },
   "source": [
    "### 3.4 - Data Inconsistency"
   ]
  },
  {
   "cell_type": "markdown",
   "id": "ee70557e-7ec3-4d3a-ad2d-55198edaff83",
   "metadata": {
    "execution": {
     "iopub.execute_input": "2021-09-05T13:35:12.690807Z",
     "iopub.status.busy": "2021-09-05T13:35:12.690336Z",
     "iopub.status.idle": "2021-09-05T13:35:12.697006Z",
     "shell.execute_reply": "2021-09-05T13:35:12.695955Z",
     "shell.execute_reply.started": "2021-09-05T13:35:12.690752Z"
    },
    "tags": []
   },
   "source": [
    "## 4.0 - Exploratory Data Analysis"
   ]
  },
  {
   "cell_type": "markdown",
   "id": "189a0aaf-c184-4b82-85c4-c119117ac29d",
   "metadata": {
    "execution": {
     "iopub.execute_input": "2021-09-05T13:35:12.690807Z",
     "iopub.status.busy": "2021-09-05T13:35:12.690336Z",
     "iopub.status.idle": "2021-09-05T13:35:12.697006Z",
     "shell.execute_reply": "2021-09-05T13:35:12.695955Z",
     "shell.execute_reply.started": "2021-09-05T13:35:12.690752Z"
    },
    "tags": []
   },
   "source": [
    "### 4.1 - Business Questions"
   ]
  },
  {
   "cell_type": "markdown",
   "id": "669ffa18-8422-455a-a5c2-776de5e707e0",
   "metadata": {
    "execution": {
     "iopub.execute_input": "2021-09-05T13:35:12.690807Z",
     "iopub.status.busy": "2021-09-05T13:35:12.690336Z",
     "iopub.status.idle": "2021-09-05T13:35:12.697006Z",
     "shell.execute_reply": "2021-09-05T13:35:12.695955Z",
     "shell.execute_reply.started": "2021-09-05T13:35:12.690752Z"
    },
    "tags": []
   },
   "source": [
    "### 4.2 - General Exploratory Data"
   ]
  },
  {
   "cell_type": "markdown",
   "id": "0dd377d3-de5e-4c7a-ad79-b2022cd4f7ce",
   "metadata": {
    "execution": {
     "iopub.execute_input": "2021-09-05T13:35:12.690807Z",
     "iopub.status.busy": "2021-09-05T13:35:12.690336Z",
     "iopub.status.idle": "2021-09-05T13:35:12.697006Z",
     "shell.execute_reply": "2021-09-05T13:35:12.695955Z",
     "shell.execute_reply.started": "2021-09-05T13:35:12.690752Z"
    },
    "tags": []
   },
   "source": [
    "### 4.3 - Questions Answered"
   ]
  },
  {
   "cell_type": "markdown",
   "id": "af2d3a9a-1d44-433d-abb1-b72fbbc7a2f0",
   "metadata": {
    "execution": {
     "iopub.execute_input": "2021-09-05T13:35:12.690807Z",
     "iopub.status.busy": "2021-09-05T13:35:12.690336Z",
     "iopub.status.idle": "2021-09-05T13:35:12.697006Z",
     "shell.execute_reply": "2021-09-05T13:35:12.695955Z",
     "shell.execute_reply.started": "2021-09-05T13:35:12.690752Z"
    },
    "tags": []
   },
   "source": [
    "## 5.0 - Develivery"
   ]
  }
 ],
 "metadata": {
  "kernelspec": {
   "display_name": "Python 3 (ipykernel)",
   "language": "python",
   "name": "python3"
  },
  "language_info": {
   "codemirror_mode": {
    "name": "ipython",
    "version": 3
   },
   "file_extension": ".py",
   "mimetype": "text/x-python",
   "name": "python",
   "nbconvert_exporter": "python",
   "pygments_lexer": "ipython3",
   "version": "3.9.5"
  }
 },
 "nbformat": 4,
 "nbformat_minor": 5
}
